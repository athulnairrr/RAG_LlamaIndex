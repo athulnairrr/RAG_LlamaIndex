{
 "cells": [
  {
   "cell_type": "markdown",
   "id": "19bde826",
   "metadata": {},
   "source": [
    "### Import Handling"
   ]
  },
  {
   "cell_type": "code",
   "execution_count": null,
   "id": "9bbf1cdf",
   "metadata": {},
   "outputs": [],
   "source": [
    "\n",
    "from llama_index.core import VectorStoreIndex, SimpleDirectoryReader, StorageContext\n",
    "from llama_index.embeddings.huggingface import HuggingFaceEmbedding\n",
    "from llama_index.core.extractors import (\n",
    "    TitleExtractor,\n",
    "    QuestionsAnsweredExtractor,\n",
    "    SummaryExtractor,\n",
    ")\n",
    "\n",
    "from llama_index.core.node_parser import (\n",
    "    SemanticDoubleMergingSplitterNodeParser,\n",
    "    LanguageConfig,\n",
    ")\n",
    "\n",
    "#from llama_index.core.node_parser import TokenTextSplitter\n",
    "from llama_index.core.node_parser import SentenceSplitter\n",
    "from llama_index.core import Document\n",
    "from llama_index.core.node_parser import SentenceSplitter\n",
    "from llama_index.core.extractors import TitleExtractor\n",
    "from llama_index.core.ingestion import IngestionPipeline, IngestionCache\n",
    "from llama_index.llms.groq import Groq\n",
    "from llama_index.llms.ollama import Ollama\n",
    "from llama_index.core.node_parser import (\n",
    "    SentenceSplitter,\n",
    "    SemanticSplitterNodeParser,\n",
    ")\n",
    "from llama_index.vector_stores.postgres import PGVectorStore\n",
    "\n",
    "from llama_index.embeddings.openai import OpenAIEmbedding\n",
    "from llama_index.llms.openrouter import OpenRouter\n",
    "from llama_index.core.llms import ChatMessage\n",
    "import os \n",
    "from dotenv import load_dotenv\n",
    "\n",
    "load_dotenv()\n",
    "\n",
    "api_key = os.getenv('LLM_API_KEY')\n",
    "OPEN_API_KEY = os.getenv('OPENAI_API_KEY')\n",
    "openai_api_base = \"https://openrouter.ai/api/v1\"\n"
   ]
  },
  {
   "cell_type": "code",
   "execution_count": null,
   "id": "999073ef",
   "metadata": {},
   "outputs": [],
   "source": [
    "# embed_model = HuggingFaceEmbedding(model_name=\"Alibaba-NLP/gte-large-en-v1.5\", trust_remote_code=True)\n",
    "embed_model = OpenAIEmbedding(model=\"text-embedding-3-large\", dimensions=1024)"
   ]
  },
  {
   "cell_type": "markdown",
   "id": "f1ee98cb",
   "metadata": {},
   "source": [
    "### Document Ingestion"
   ]
  },
  {
   "cell_type": "code",
   "execution_count": null,
   "id": "d44ef99e",
   "metadata": {},
   "outputs": [],
   "source": [
    "documents = SimpleDirectoryReader(\"data\").load_data()\n"
   ]
  },
  {
   "cell_type": "code",
   "execution_count": null,
   "id": "121d2cb2",
   "metadata": {},
   "outputs": [],
   "source": [
    "print (documents[0].text)\n",
    "print (documents[0].metadata)"
   ]
  },
  {
   "cell_type": "markdown",
   "id": "dd9cd641",
   "metadata": {},
   "source": [
    "### LLM"
   ]
  },
  {
   "cell_type": "code",
   "execution_count": null,
   "id": "3e91e823",
   "metadata": {},
   "outputs": [],
   "source": [
    "prompt = \"\"\" You are a chunk analysis assistant. Your task is to examine a chunk of text—typically extracted from a PDF document—and generate a **clear, concise one-line description** that accurately summarizes the key information contained in the chunk.\n",
    "\n",
    "Instructions:\n",
    "- Focus only on what is explicitly present in the chunk. Do not infer or interpret beyond the given content.\n",
    "- Include visible structural clues such as section headers, bullet points, or table data if they help contextualize the description.\n",
    "- Write in plain language suitable for downstream use in semantic retrieval or indexing.\n",
    "- The output should be a single sentence that captures the main idea or purpose of the chunk.\n",
    "\n",
    "**chunk content:**\n",
    "{context_str}\n",
    "\n",
    "\n",
    "\n",
    "\"\"\"\n",
    "\n",
    "\n",
    "llm = OpenRouter(\n",
    "    api_key=api_key,\n",
    "    max_tokens=256,\n",
    "    context_window=4096,\n",
    "    model=\"meta-llama/llama-3.3-70b-instruct\",\n",
    "    prompt=prompt,\n",
    ")"
   ]
  },
  {
   "cell_type": "code",
   "execution_count": null,
   "id": "86cbec62",
   "metadata": {},
   "outputs": [],
   "source": [
    "# groq_api_key=\"groq_api_key\"\n",
    "# llm = Groq(model=\"llama3-8b-8192\", api_key=groq_api_key)\n",
    "# llm = Ollama(model=\"llama3.2:latest\", request_timeout=120.0)\n",
    "# print(llm.complete(\"What is the Capital of France\"))"
   ]
  },
  {
   "cell_type": "markdown",
   "id": "75fe4849",
   "metadata": {},
   "source": [
    "### Chunking + Metadata Extraction"
   ]
  },
  {
   "cell_type": "code",
   "execution_count": null,
   "id": "72cb8aed",
   "metadata": {},
   "outputs": [],
   "source": [
    "# multiple methods are listed go throught the dcumentation and use the ones you need\n",
    "\n",
    "\n",
    "from llama_index.core.schema import MetadataMode\n",
    "from llama_index.core.node_parser import SentenceSplitter\n",
    "from llama_index.core.extractors import (\n",
    "    SummaryExtractor,\n",
    "    QuestionsAnsweredExtractor,\n",
    "    TitleExtractor,\n",
    "    KeywordExtractor,\n",
    ")\n",
    "\n",
    "text_splitter = SentenceSplitter(\n",
    "    chunk_size=512, chunk_overlap=50\n",
    ")\n",
    "semantic_text_splitter = SemanticSplitterNodeParser(\n",
    "    buffer_size=1, breakpoint_percentile_threshold=95, embed_model=embed_model\n",
    ")\n",
    "config = LanguageConfig(language=\"english\", spacy_model=\"en_core_web_md\")\n",
    "double_semantic_merging_splitter = SemanticDoubleMergingSplitterNodeParser(\n",
    "    language_config=config,\n",
    "    initial_threshold=0.4,\n",
    "    appending_threshold=0.6,\n",
    "    merging_threshold=0.6,\n",
    "    max_chunk_size=5000,\n",
    ")\n",
    "# print(\"double_semantic_merging_splitter_content:\",double_semantic_merging_splitter)\n",
    "\n",
    "extractors = [\n",
    "    SummaryExtractor(summaries=[\"prev\", \"self\", \"next\"], llm=llm),\n",
    "    QuestionsAnsweredExtractor(\n",
    "            questions=3, llm=llm, metadata_mode=MetadataMode.EMBED\n",
    "        ),\n",
    "]\n",
    "summary_extractor = SummaryExtractor(summaries=[\"prev\", \"self\", \"next\"], llm=llm)\n",
    "qa_extractor = QuestionsAnsweredExtractor(\n",
    "    questions=3, llm=llm, metadata_mode=MetadataMode.EMBED\n",
    ")\n",
    "\n",
    "title_extractor = TitleExtractor(nodes=5, llm = llm, node_template=prompt)\n",
    "# print(\"Title extractor:\", title_extractor)\n",
    "\n",
    "# transformations = [semantic_text_splitter, KeywordExtractor(keywords=10)] + extractors\n",
    "transformations = [semantic_text_splitter, KeywordExtractor(keywords=10)]\n",
    "print(transformations)"
   ]
  },
  {
   "cell_type": "markdown",
   "id": "5579344d",
   "metadata": {},
   "source": [
    "### Ingestion Pipeline + Transformations"
   ]
  },
  {
   "cell_type": "code",
   "execution_count": null,
   "id": "f5ae2b7d",
   "metadata": {},
   "outputs": [],
   "source": [
    "# OPTION ONE: Use the IngestionPipeline to CREATE NODES and at the same time chunks and make use of extractors\n",
    "\n",
    "from llama_index.core.ingestion import IngestionPipeline\n",
    "import nest_asyncio\n",
    "\n",
    "nest_asyncio.apply()\n",
    "\n",
    "pipeline = IngestionPipeline(\n",
    "    transformations=transformations\n",
    ")\n",
    "\n",
    "nodes = pipeline.run(\n",
    "    documents=documents,\n",
    "    in_place=True,\n",
    "    show_progress=True,\n",
    ")\n",
    "from llama_index.core.node_parser import SentenceSplitter\n",
    "from llama_index.core import SimpleDirectoryReader\n",
    "documents = SimpleDirectoryReader(\"./data\").load_data()\n",
    "print(documents)\n",
    "\n",
    "parser = SentenceSplitter()\n",
    "\n",
    "node_parser = parser.get_nodes_from_documents(documents)\n",
    "print(\"Node Parser:\", node_parser[0])"
   ]
  },
  {
   "cell_type": "code",
   "execution_count": null,
   "id": "a610b40e",
   "metadata": {},
   "outputs": [],
   "source": [
    "# # OPTION TWO: Make the nodes separately when you dont want to chunk your documents\n",
    "\n",
    "# from llama_index.core.schema import TextNode\n",
    "\n",
    "# nodes = [\n",
    "#     TextNode(\n",
    "#         text=doc.text,\n",
    "#         metadata=doc.metadata,  # Optional\n",
    "#         id_=doc.id_ if hasattr(doc, \"id_\") else None  # Optional\n",
    "#     )\n",
    "#     for doc in documents\n",
    "# ]\n",
    "# print(\"Nodes :\",nodes[0].text)"
   ]
  },
  {
   "cell_type": "code",
   "execution_count": null,
   "id": "c72f58e5",
   "metadata": {},
   "outputs": [],
   "source": [
    "print(f\"Number of nodes: {len(nodes)}\")\n",
    "print(f\"content: {nodes[0].metadata}\")"
   ]
  },
  {
   "cell_type": "code",
   "execution_count": null,
   "id": "5b261efc",
   "metadata": {},
   "outputs": [],
   "source": [
    "# for extractor in qa_extractors:\n",
    "#     nodes = extractor(nodes) "
   ]
  },
  {
   "cell_type": "code",
   "execution_count": null,
   "id": "9a02f436",
   "metadata": {},
   "outputs": [],
   "source": [
    "# To check the qa_extrcator metadata of the nodes you can use the following code\n",
    "\n",
    "# print('**********************')\n",
    "# print(f\"prev_section_summary: {nodes[1].metadata['prev_section_summary']}\")\n",
    "# print('**********************')\n",
    "# print(f\"next_section_summary: {nodes[1].metadata['next_section_summary']}\")\n",
    "# print('**********************')\n",
    "# print(f\"section_summary: {nodes[1].metadata['section_summary']}\")\n",
    "# print('**********************')\n",
    "# print(f\"content: {nodes[0].metadata['questions_this_excerpt_can_answer']}\")"
   ]
  },
  {
   "cell_type": "code",
   "execution_count": null,
   "id": "44db05d5",
   "metadata": {},
   "outputs": [],
   "source": [
    "# for i in range(len(nodes)):\n",
    "#     # print(\"nodes:\", nodes[i].metadata) \n",
    "#     print(f\"Node {i+1}:\", nodes[i].metadata['section_summary'])"
   ]
  },
  {
   "cell_type": "markdown",
   "id": "8ba8dc7d",
   "metadata": {},
   "source": [
    "### Database Setup"
   ]
  },
  {
   "cell_type": "code",
   "execution_count": null,
   "id": "3d0ff854",
   "metadata": {},
   "outputs": [],
   "source": [
    "import psycopg2\n",
    "\n",
    "connection_string = \"postgresql://postgres: YOURPASSWORD@localhost:YOURPORT\"\n",
    "db_name = \"vector_hybrid_combined\"\n",
    "conn = psycopg2.connect(connection_string)\n",
    "conn.autocommit = True\n",
    "\n",
    "with conn.cursor() as c:\n",
    "    c.execute(f\"DROP DATABASE IF EXISTS {db_name}\")\n",
    "    c.execute(f\"CREATE DATABASE {db_name}\")"
   ]
  },
  {
   "cell_type": "code",
   "execution_count": null,
   "id": "add83d03",
   "metadata": {},
   "outputs": [],
   "source": [
    "from sqlalchemy import make_url\n",
    "\n",
    "url = make_url(connection_string)\n",
    "vector_store = PGVectorStore.from_params(\n",
    "    database=db_name,\n",
    "    host=url.host,\n",
    "    password=url.password,\n",
    "    port=url.port,\n",
    "    user=url.username,\n",
    "    table_name=\"vector_store\",\n",
    "    embed_dim=1024,\n",
    "    hybrid_search=True,\n",
    "    text_search_config=\"english\",\n",
    "    hnsw_kwargs={\n",
    "        \"hnsw_m\": 16,\n",
    "        \"hnsw_ef_construction\": 64,\n",
    "        \"hnsw_ef_search\": 40,\n",
    "        \"hnsw_dist_method\": \"vector_cosine_ops\",\n",
    "    },\n",
    ")"
   ]
  },
  {
   "cell_type": "code",
   "execution_count": null,
   "id": "008b2a8b",
   "metadata": {},
   "outputs": [],
   "source": [
    "storage_context = StorageContext.from_defaults(\n",
    "    vector_store=vector_store\n",
    ")\n",
    "\n",
    "index = VectorStoreIndex.from_documents(documents, storage_context=storage_context,embed_model = embed_model,show_progress=True)"
   ]
  },
  {
   "cell_type": "code",
   "execution_count": null,
   "id": "51bcdab6",
   "metadata": {},
   "outputs": [],
   "source": [
    "# Single prompt \n",
    "\n",
    "hybrid_query_engine = index.as_query_engine(\n",
    "    vector_store_query_mode=\"hybrid\", sparse_top_k=5, dense_top_k=5,\n",
    ")\n",
    "\n",
    "hybrid_response = hybrid_query_engine.query(\n",
    "    \"What are the sum insured options of Arogya Sanjeevani policy?\",\n",
    ")\n",
    "\n",
    "# Print the final response from the model\n",
    "print(\"Response:\\n\", hybrid_response)\n",
    "\n",
    "# Print source chunks and their metadata\n",
    "print(\"\\n--- Retrieved Chunks & Metadata ---\\n\")\n",
    "for i, node in enumerate(hybrid_response.source_nodes, start=1):\n",
    "    print(f\"Chunk {i}:\")\n",
    "    print(\"Text:\", node.node.text[:500].strip(), \"...\\n\")  # Limit to first 500 chars\n",
    "    print(\"Metadata:\", node.node.metadata)\n",
    "    print(\"-\" * 60)\n"
   ]
  },
  {
   "cell_type": "code",
   "execution_count": null,
   "id": "c86be79e",
   "metadata": {},
   "outputs": [],
   "source": [
    "template_str = \"your task is to answer the question based on the context provided. If the context does not contain enough information to asnwer the question, so please say 'I don't know'.\\n\\ncontext: {context_str}\\n\\nquestion: {query_str}\\n\\nChatHistory: {memory}\""
   ]
  },
  {
   "cell_type": "code",
   "execution_count": null,
   "id": "85616f18",
   "metadata": {},
   "outputs": [],
   "source": [
    "#Chat System : The input tag would be displaye dat teh top of the code editor if no error is showing :).\n",
    "\n",
    "from llama_index.core.memory import ChatMemoryBuffer\n",
    "from llama_index.core.prompts import RichPromptTemplate\n",
    "import os\n",
    "from datetime import datetime\n",
    "\n",
    "# Setup folder and file\n",
    "log_dir = \"chat_logs\"\n",
    "os.makedirs(log_dir, exist_ok=True)\n",
    "\n",
    "timestamp = datetime.now().strftime(\"%Y-%m-%d_%H-%M-%S\")\n",
    "base_filename = f\"chat_session_{timestamp}\"\n",
    "history_file = os.path.join(log_dir, base_filename + \".txt\")\n",
    "\n",
    "# Initialize memory and prompt template\n",
    "memory = ChatMemoryBuffer.from_defaults(token_limit=1500)\n",
    "qa_template = RichPromptTemplate(template_str)\n",
    "\n",
    "# Chat loop\n",
    "while True:\n",
    "    query = input(\"Your question (type 'correct' or 'wrong' to finish): \").strip()\n",
    "\n",
    "    if query.lower() in [\"correct\", \"wrong\"]:\n",
    "        # Rename the log file with the session outcome\n",
    "        label = query.lower()\n",
    "        new_file = os.path.join(log_dir, f\"{base_filename}_{label}.txt\")\n",
    "        os.rename(history_file, new_file)\n",
    "        print(f\"\\nSession saved to '{new_file}'\\nExiting chat.\")\n",
    "        break\n",
    "\n",
    "    # Format prompt\n",
    "    prompt = qa_template.format(chat_history=memory, query_str=query)\n",
    "    print(\"\\nPrompt:\\n\", prompt)\n",
    "\n",
    "    hybrid_chat_engine = index.as_chat_engine(\n",
    "        chat_mode=\"context\",\n",
    "        memory=memory,\n",
    "        sparse_top_k=10,\n",
    "        dense_top_k=10,\n",
    "        system_prompt=prompt\n",
    "    )\n",
    "\n",
    "    response = hybrid_chat_engine.chat(query)\n",
    "    print(\"\\nUser:\", query)\n",
    "    print(\"\\nAssistant:\", response)\n",
    "    # Print source chunks and their metadata\n",
    "    print(\"\\n--- Retrieved Chunks & Metadata ---\\n\")\n",
    "    for i, node in enumerate(response.source_nodes, start=1):\n",
    "        print(f\"Chunk {i}:\")\n",
    "        print(\"Text:\", node.node.text[:500].strip(), \"...\\n\")  # Limit to first 500 chars\n",
    "        print(\"Metadata:\", node.node.metadata)\n",
    "        print(\"-\" * 60)\n",
    "\n",
    "    # Write to chat log\n",
    "    with open(history_file, \"a\", encoding=\"utf-8\") as f:\n",
    "        f.write(f\"User: {query}\\n\")\n",
    "        f.write(f\"Assistant: {response}\\n\\n\")\n"
   ]
  }
 ],
 "metadata": {
  "kernelspec": {
   "display_name": "llamaindex",
   "language": "python",
   "name": "python3"
  },
  "language_info": {
   "codemirror_mode": {
    "name": "ipython",
    "version": 3
   },
   "file_extension": ".py",
   "mimetype": "text/x-python",
   "name": "python",
   "nbconvert_exporter": "python",
   "pygments_lexer": "ipython3",
   "version": "3.12.9"
  }
 },
 "nbformat": 4,
 "nbformat_minor": 5
}
